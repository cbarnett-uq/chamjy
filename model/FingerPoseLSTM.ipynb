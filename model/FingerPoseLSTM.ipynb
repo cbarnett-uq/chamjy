{
 "cells": [
  {
   "cell_type": "code",
   "execution_count": 17,
   "id": "b3f51415",
   "metadata": {},
   "outputs": [],
   "source": [
    "import numpy as np \n",
    "import matplotlib as plt \n",
    "import os \n",
    "import time\n",
    "import cv2 \n",
    "import pandas as pd\n",
    "import tensorflowjs as tfjs\n",
    "from sklearn.model_selection import train_test_split\n",
    "from tensorflow.keras import layers,models,activations\n",
    "from tensorflow.keras.utils import to_categorical \n",
    "from tensorflow.keras.models import Sequential \n",
    "from tensorflow.keras.layers import Input,LSTM, Dense\n",
    "from tensorflow.keras.callbacks import TensorBoard"
   ]
  },
  {
   "cell_type": "markdown",
   "id": "86b105bb",
   "metadata": {},
   "source": [
    "## Load and Preprocess Data"
   ]
  },
  {
   "cell_type": "code",
   "execution_count": 26,
   "id": "44918efa",
   "metadata": {},
   "outputs": [],
   "source": [
    "DATA_PATH = os.path.DATA_PATH = os.path.join(os.getcwd(),\"Fingerpose_data\")\n",
    "gestures = ['play','pause','nothing']\n",
    "curl_map = {'No Curl':0,'Half Curl':1,'Full Curl':2}\n",
    "direction_map = {'Vertical Up':0,'Vertical Down':1,'Horizontal Left':2,'Horizontal Right':3,'Diagonal Up Right':4,\n",
    "                 'Diagonal Up Left':5,'Diagonal Down Right':6,'Diagonal Down Left':7}\n",
    "label_map = {label:num for num, label in enumerate(gestures)}"
   ]
  },
  {
   "cell_type": "code",
   "execution_count": 27,
   "id": "17ae3ef5",
   "metadata": {},
   "outputs": [],
   "source": [
    "#read data from CSV file and save to a dataset \n",
    "def load_csv(data,gesture,dataset,labels):\n",
    "    data = data.reset_index()\n",
    "    frame,datapoints = [],[]\n",
    "    for index, row in data.iterrows():\n",
    "        frame.append(curl_map[row['Curl']])\n",
    "        frame.append(direction_map[row['Direction']])\n",
    "        if (index+1)%5 == 0:\n",
    "            datapoints.append(frame)\n",
    "            frame = []\n",
    "        if (index+1)%150 == 0:\n",
    "            dataset.append(datapoints)\n",
    "            labels.append(label_map[gesture])\n",
    "            datapoints=[]"
   ]
  },
  {
   "cell_type": "code",
   "execution_count": 28,
   "id": "d9dd2f6d",
   "metadata": {},
   "outputs": [],
   "source": [
    "dataset,labels = [],[]\n",
    "for gesture in gestures:\n",
    "    files = os.listdir(os.path.join(DATA_PATH,gesture))\n",
    "    for file in files:\n",
    "        df = pd.read_csv(os.path.join(DATA_PATH,gesture,file))\n",
    "        load_csv(df,gesture,dataset,labels)\n",
    "        \n",
    "            "
   ]
  },
  {
   "cell_type": "code",
   "execution_count": 29,
   "id": "f032f242",
   "metadata": {
    "scrolled": false
   },
   "outputs": [
    {
     "name": "stdout",
     "output_type": "stream",
     "text": [
      "(60, 30, 10)\n",
      "(60, 3)\n"
     ]
    }
   ],
   "source": [
    "X = np.array(dataset)\n",
    "y = to_categorical(labels).astype(int)\n",
    "print(X.shape)\n",
    "print(y.shape)\n",
    "X_train, X_test, y_train, y_test = train_test_split(X,y,test_size=0.1)"
   ]
  },
  {
   "cell_type": "markdown",
   "id": "cbf1aec1",
   "metadata": {},
   "source": [
    "## Train LSTM Model "
   ]
  },
  {
   "cell_type": "code",
   "execution_count": 30,
   "id": "cc68bc6a",
   "metadata": {},
   "outputs": [],
   "source": [
    "log_dir = os.path.join('Logs')\n",
    "tb_callback = TensorBoard(log_dir=log_dir)"
   ]
  },
  {
   "cell_type": "code",
   "execution_count": 31,
   "id": "9afeab24",
   "metadata": {},
   "outputs": [
    {
     "name": "stdout",
     "output_type": "stream",
     "text": [
      "WARNING:tensorflow:Layer lstm_6 will not use cuDNN kernels since it doesn't meet the criteria. It will use a generic GPU kernel as fallback when running on GPU.\n",
      "WARNING:tensorflow:Layer lstm_7 will not use cuDNN kernels since it doesn't meet the criteria. It will use a generic GPU kernel as fallback when running on GPU.\n",
      "Model: \"model_3\"\n",
      "_________________________________________________________________\n",
      "Layer (type)                 Output Shape              Param #   \n",
      "=================================================================\n",
      "input_4 (InputLayer)         [(None, 30, 10)]          0         \n",
      "_________________________________________________________________\n",
      "lstm_6 (LSTM)                (None, 30, 64)            19200     \n",
      "_________________________________________________________________\n",
      "lstm_7 (LSTM)                (None, 128)               98816     \n",
      "_________________________________________________________________\n",
      "dense_9 (Dense)              (None, 128)               16512     \n",
      "_________________________________________________________________\n",
      "dense_10 (Dense)             (None, 64)                8256      \n",
      "_________________________________________________________________\n",
      "dense_11 (Dense)             (None, 3)                 195       \n",
      "=================================================================\n",
      "Total params: 142,979\n",
      "Trainable params: 142,979\n",
      "Non-trainable params: 0\n",
      "_________________________________________________________________\n"
     ]
    }
   ],
   "source": [
    "inputs = Input((30,10))\n",
    "lstm = LSTM(64,return_sequences=True, activation = 'relu',input_shape=(30,10))(inputs)\n",
    "lstm2 = LSTM(128, activation = 'relu')(lstm)\n",
    "de = Dense(128, activation='relu')(lstm2)\n",
    "de2 = Dense(64, activation='relu')(de)\n",
    "outputs = Dense(len(gestures),activation='softmax')(de2)\n",
    "model = models.Model(inputs,outputs)\n",
    "model.compile(optimizer='Adam', loss='categorical_crossentropy', metrics=['categorical_accuracy'])\n",
    "model.summary()"
   ]
  },
  {
   "cell_type": "code",
   "execution_count": 32,
   "id": "aa596974",
   "metadata": {},
   "outputs": [
    {
     "name": "stdout",
     "output_type": "stream",
     "text": [
      "Epoch 1/100\n",
      "2/2 [==============================] - 3s 1s/step - loss: 1.0926 - categorical_accuracy: 0.3889\n",
      "Epoch 2/100\n",
      "2/2 [==============================] - 0s 249ms/step - loss: 1.0657 - categorical_accuracy: 0.6481\n",
      "Epoch 3/100\n",
      "2/2 [==============================] - 0s 227ms/step - loss: 0.9744 - categorical_accuracy: 0.6852\n",
      "Epoch 4/100\n",
      "2/2 [==============================] - 0s 220ms/step - loss: 0.8738 - categorical_accuracy: 0.8519\n",
      "Epoch 5/100\n",
      "2/2 [==============================] - 0s 236ms/step - loss: 0.7135 - categorical_accuracy: 0.8519\n",
      "Epoch 6/100\n",
      "2/2 [==============================] - 1s 228ms/step - loss: 0.4893 - categorical_accuracy: 0.9259\n",
      "Epoch 7/100\n",
      "2/2 [==============================] - 0s 233ms/step - loss: 1.0465 - categorical_accuracy: 0.7222\n",
      "Epoch 8/100\n",
      "2/2 [==============================] - 0s 244ms/step - loss: 0.6191 - categorical_accuracy: 0.7593\n",
      "Epoch 9/100\n",
      "2/2 [==============================] - 1s 277ms/step - loss: 0.3704 - categorical_accuracy: 0.8889\n",
      "Epoch 10/100\n",
      "2/2 [==============================] - 1s 239ms/step - loss: 0.3827 - categorical_accuracy: 0.9074\n",
      "Epoch 11/100\n",
      "2/2 [==============================] - 0s 214ms/step - loss: 0.3798 - categorical_accuracy: 0.9074\n",
      "Epoch 12/100\n",
      "2/2 [==============================] - 0s 213ms/step - loss: 0.3413 - categorical_accuracy: 0.9259\n",
      "Epoch 13/100\n",
      "2/2 [==============================] - 0s 221ms/step - loss: 0.2741 - categorical_accuracy: 0.9630\n",
      "Epoch 14/100\n",
      "2/2 [==============================] - 1s 298ms/step - loss: 0.2451 - categorical_accuracy: 0.9259\n",
      "Epoch 15/100\n",
      "2/2 [==============================] - 0s 222ms/step - loss: 0.1771 - categorical_accuracy: 0.9444\n",
      "Epoch 16/100\n",
      "2/2 [==============================] - 1s 272ms/step - loss: 0.1264 - categorical_accuracy: 0.9815\n",
      "Epoch 17/100\n",
      "2/2 [==============================] - 1s 263ms/step - loss: 0.1770 - categorical_accuracy: 0.9444\n",
      "Epoch 18/100\n",
      "2/2 [==============================] - 1s 285ms/step - loss: 0.2758 - categorical_accuracy: 0.8704\n",
      "Epoch 19/100\n",
      "2/2 [==============================] - 0s 225ms/step - loss: 0.3104 - categorical_accuracy: 0.8889\n",
      "Epoch 20/100\n",
      "2/2 [==============================] - 0s 234ms/step - loss: 0.2088 - categorical_accuracy: 0.9259\n",
      "Epoch 21/100\n",
      "2/2 [==============================] - 0s 206ms/step - loss: 0.1322 - categorical_accuracy: 0.9815\n",
      "Epoch 22/100\n",
      "2/2 [==============================] - 0s 210ms/step - loss: 0.1950 - categorical_accuracy: 0.8889\n",
      "Epoch 23/100\n",
      "2/2 [==============================] - 0s 216ms/step - loss: 0.1430 - categorical_accuracy: 0.9630\n",
      "Epoch 24/100\n",
      "2/2 [==============================] - 0s 210ms/step - loss: 0.8626 - categorical_accuracy: 0.9259\n",
      "Epoch 25/100\n",
      "2/2 [==============================] - 0s 218ms/step - loss: 1.7767 - categorical_accuracy: 0.9630\n",
      "Epoch 26/100\n",
      "2/2 [==============================] - 1s 329ms/step - loss: 0.5268 - categorical_accuracy: 0.9074\n",
      "Epoch 27/100\n",
      "2/2 [==============================] - 1s 233ms/step - loss: 2.1409 - categorical_accuracy: 0.8333\n",
      "Epoch 28/100\n",
      "2/2 [==============================] - 0s 239ms/step - loss: 0.2719 - categorical_accuracy: 0.9074\n",
      "Epoch 29/100\n",
      "2/2 [==============================] - 0s 223ms/step - loss: 0.2509 - categorical_accuracy: 0.8889\n",
      "Epoch 30/100\n",
      "2/2 [==============================] - 0s 210ms/step - loss: 0.2694 - categorical_accuracy: 0.8704\n",
      "Epoch 31/100\n",
      "2/2 [==============================] - 0s 204ms/step - loss: 0.2542 - categorical_accuracy: 0.9074\n",
      "Epoch 32/100\n",
      "2/2 [==============================] - 0s 208ms/step - loss: 0.2437 - categorical_accuracy: 0.9630\n",
      "Epoch 33/100\n",
      "2/2 [==============================] - 0s 219ms/step - loss: 0.2307 - categorical_accuracy: 0.9630\n",
      "Epoch 34/100\n",
      "2/2 [==============================] - 0s 217ms/step - loss: 0.2164 - categorical_accuracy: 0.9630\n",
      "Epoch 35/100\n",
      "2/2 [==============================] - 0s 219ms/step - loss: 0.1758 - categorical_accuracy: 0.9630\n",
      "Epoch 36/100\n",
      "2/2 [==============================] - 0s 220ms/step - loss: 0.1322 - categorical_accuracy: 0.9630\n",
      "Epoch 37/100\n",
      "2/2 [==============================] - 0s 231ms/step - loss: 0.1021 - categorical_accuracy: 0.9630\n",
      "Epoch 38/100\n",
      "2/2 [==============================] - 0s 228ms/step - loss: 0.0690 - categorical_accuracy: 0.9815\n",
      "Epoch 39/100\n",
      "2/2 [==============================] - 0s 232ms/step - loss: 0.0428 - categorical_accuracy: 0.9815\n",
      "Epoch 40/100\n",
      "2/2 [==============================] - 0s 219ms/step - loss: 0.0298 - categorical_accuracy: 0.9815\n",
      "Epoch 41/100\n",
      "2/2 [==============================] - 0s 222ms/step - loss: 0.0188 - categorical_accuracy: 1.0000\n",
      "Epoch 42/100\n",
      "2/2 [==============================] - 0s 231ms/step - loss: 0.0121 - categorical_accuracy: 1.0000\n",
      "Epoch 43/100\n",
      "2/2 [==============================] - 0s 241ms/step - loss: 0.0056 - categorical_accuracy: 1.0000\n",
      "Epoch 44/100\n",
      "2/2 [==============================] - 0s 222ms/step - loss: 0.0026 - categorical_accuracy: 1.0000\n",
      "Epoch 45/100\n",
      "2/2 [==============================] - 0s 229ms/step - loss: 0.0014 - categorical_accuracy: 1.0000\n",
      "Epoch 46/100\n",
      "2/2 [==============================] - 0s 222ms/step - loss: 3.4520e-04 - categorical_accuracy: 1.0000\n",
      "Epoch 47/100\n",
      "2/2 [==============================] - 0s 228ms/step - loss: 1.8445e-04 - categorical_accuracy: 1.0000\n",
      "Epoch 48/100\n",
      "2/2 [==============================] - 0s 220ms/step - loss: 1.2468e-04 - categorical_accuracy: 1.0000\n",
      "Epoch 49/100\n",
      "2/2 [==============================] - 0s 222ms/step - loss: 2.0068e-05 - categorical_accuracy: 1.0000\n",
      "Epoch 50/100\n",
      "2/2 [==============================] - 0s 225ms/step - loss: 1.6232e-05 - categorical_accuracy: 1.0000\n",
      "Epoch 51/100\n",
      "2/2 [==============================] - 0s 225ms/step - loss: 4.4897e-05 - categorical_accuracy: 1.0000\n",
      "Epoch 52/100\n",
      "2/2 [==============================] - 0s 219ms/step - loss: 2.2492e-05 - categorical_accuracy: 1.0000\n",
      "Epoch 53/100\n",
      "2/2 [==============================] - 0s 237ms/step - loss: 6.1300e-06 - categorical_accuracy: 1.0000\n",
      "Epoch 54/100\n",
      "2/2 [==============================] - 0s 226ms/step - loss: 4.9224e-06 - categorical_accuracy: 1.0000\n",
      "Epoch 55/100\n",
      "2/2 [==============================] - 0s 234ms/step - loss: 5.1784e-06 - categorical_accuracy: 1.0000\n",
      "Epoch 56/100\n",
      "2/2 [==============================] - 0s 232ms/step - loss: 5.1939e-06 - categorical_accuracy: 1.0000\n",
      "Epoch 57/100\n",
      "2/2 [==============================] - 0s 230ms/step - loss: 5.2072e-06 - categorical_accuracy: 1.0000\n",
      "Epoch 58/100\n",
      "2/2 [==============================] - 0s 218ms/step - loss: 6.4037e-06 - categorical_accuracy: 1.0000\n",
      "Epoch 59/100\n",
      "2/2 [==============================] - 0s 229ms/step - loss: 6.4633e-06 - categorical_accuracy: 1.0000\n",
      "Epoch 60/100\n",
      "2/2 [==============================] - 1s 336ms/step - loss: 4.6974e-06 - categorical_accuracy: 1.0000\n",
      "Epoch 61/100\n",
      "2/2 [==============================] - 1s 223ms/step - loss: 3.6555e-06 - categorical_accuracy: 1.0000\n",
      "Epoch 62/100\n",
      "2/2 [==============================] - 0s 236ms/step - loss: 3.2317e-06 - categorical_accuracy: 1.0000\n",
      "Epoch 63/100\n",
      "2/2 [==============================] - 0s 244ms/step - loss: 2.6644e-06 - categorical_accuracy: 1.0000\n",
      "Epoch 64/100\n",
      "2/2 [==============================] - 0s 248ms/step - loss: 2.4547e-06 - categorical_accuracy: 1.0000\n",
      "Epoch 65/100\n",
      "2/2 [==============================] - 0s 214ms/step - loss: 2.1677e-06 - categorical_accuracy: 1.0000\n",
      "Epoch 66/100\n",
      "2/2 [==============================] - 0s 236ms/step - loss: 1.8432e-06 - categorical_accuracy: 1.0000\n",
      "Epoch 67/100\n",
      "2/2 [==============================] - 0s 222ms/step - loss: 1.6622e-06 - categorical_accuracy: 1.0000\n",
      "Epoch 68/100\n",
      "2/2 [==============================] - 0s 237ms/step - loss: 1.5784e-06 - categorical_accuracy: 1.0000\n",
      "Epoch 69/100\n",
      "2/2 [==============================] - 0s 216ms/step - loss: 1.4305e-06 - categorical_accuracy: 1.0000\n",
      "Epoch 70/100\n",
      "2/2 [==============================] - 0s 216ms/step - loss: 1.3113e-06 - categorical_accuracy: 1.0000\n",
      "Epoch 71/100\n",
      "2/2 [==============================] - 0s 225ms/step - loss: 1.2119e-06 - categorical_accuracy: 1.0000\n",
      "Epoch 72/100\n",
      "2/2 [==============================] - 0s 215ms/step - loss: 1.1236e-06 - categorical_accuracy: 1.0000\n",
      "Epoch 73/100\n"
     ]
    },
    {
     "name": "stdout",
     "output_type": "stream",
     "text": [
      "2/2 [==============================] - 0s 230ms/step - loss: 1.0243e-06 - categorical_accuracy: 1.0000\n",
      "Epoch 74/100\n",
      "2/2 [==============================] - 0s 222ms/step - loss: 9.9339e-07 - categorical_accuracy: 1.0000\n",
      "Epoch 75/100\n",
      "2/2 [==============================] - 0s 220ms/step - loss: 9.1612e-07 - categorical_accuracy: 1.0000\n",
      "Epoch 76/100\n",
      "2/2 [==============================] - 0s 255ms/step - loss: 8.6977e-07 - categorical_accuracy: 1.0000\n",
      "Epoch 77/100\n",
      "2/2 [==============================] - 0s 241ms/step - loss: 8.3003e-07 - categorical_accuracy: 1.0000\n",
      "Epoch 78/100\n",
      "2/2 [==============================] - 0s 219ms/step - loss: 8.1017e-07 - categorical_accuracy: 1.0000\n",
      "Epoch 79/100\n",
      "2/2 [==============================] - 0s 228ms/step - loss: 7.5277e-07 - categorical_accuracy: 1.0000\n",
      "Epoch 80/100\n",
      "2/2 [==============================] - 0s 232ms/step - loss: 7.3953e-07 - categorical_accuracy: 1.0000\n",
      "Epoch 81/100\n",
      "2/2 [==============================] - 0s 218ms/step - loss: 6.9758e-07 - categorical_accuracy: 1.0000\n",
      "Epoch 82/100\n",
      "2/2 [==============================] - 0s 222ms/step - loss: 6.8213e-07 - categorical_accuracy: 1.0000\n",
      "Epoch 83/100\n",
      "2/2 [==============================] - 0s 222ms/step - loss: 6.4460e-07 - categorical_accuracy: 1.0000\n",
      "Epoch 84/100\n",
      "2/2 [==============================] - 0s 253ms/step - loss: 6.3357e-07 - categorical_accuracy: 1.0000\n",
      "Epoch 85/100\n",
      "2/2 [==============================] - 0s 217ms/step - loss: 6.1591e-07 - categorical_accuracy: 1.0000\n",
      "Epoch 86/100\n",
      "2/2 [==============================] - 0s 234ms/step - loss: 5.8942e-07 - categorical_accuracy: 1.0000\n",
      "Epoch 87/100\n",
      "2/2 [==============================] - 0s 215ms/step - loss: 5.8059e-07 - categorical_accuracy: 1.0000\n",
      "Epoch 88/100\n",
      "2/2 [==============================] - 0s 230ms/step - loss: 5.6293e-07 - categorical_accuracy: 1.0000\n",
      "Epoch 89/100\n",
      "2/2 [==============================] - 0s 213ms/step - loss: 5.4527e-07 - categorical_accuracy: 1.0000\n",
      "Epoch 90/100\n",
      "2/2 [==============================] - 0s 217ms/step - loss: 5.3202e-07 - categorical_accuracy: 1.0000\n",
      "Epoch 91/100\n",
      "2/2 [==============================] - 0s 232ms/step - loss: 5.2098e-07 - categorical_accuracy: 1.0000\n",
      "Epoch 92/100\n",
      "2/2 [==============================] - 0s 220ms/step - loss: 5.0994e-07 - categorical_accuracy: 1.0000\n",
      "Epoch 93/100\n",
      "2/2 [==============================] - 0s 251ms/step - loss: 4.9449e-07 - categorical_accuracy: 1.0000\n",
      "Epoch 94/100\n",
      "2/2 [==============================] - 0s 215ms/step - loss: 4.8345e-07 - categorical_accuracy: 1.0000\n",
      "Epoch 95/100\n",
      "2/2 [==============================] - 0s 218ms/step - loss: 4.7462e-07 - categorical_accuracy: 1.0000\n",
      "Epoch 96/100\n",
      "2/2 [==============================] - 0s 211ms/step - loss: 4.7021e-07 - categorical_accuracy: 1.0000\n",
      "Epoch 97/100\n",
      "2/2 [==============================] - 0s 238ms/step - loss: 4.5917e-07 - categorical_accuracy: 1.0000\n",
      "Epoch 98/100\n",
      "2/2 [==============================] - 0s 233ms/step - loss: 4.5255e-07 - categorical_accuracy: 1.0000\n",
      "Epoch 99/100\n",
      "2/2 [==============================] - 0s 228ms/step - loss: 4.4372e-07 - categorical_accuracy: 1.0000\n",
      "Epoch 100/100\n",
      "2/2 [==============================] - 0s 214ms/step - loss: 4.3710e-07 - categorical_accuracy: 1.0000\n"
     ]
    },
    {
     "data": {
      "text/plain": [
       "<keras.callbacks.History at 0x1a75b312910>"
      ]
     },
     "execution_count": 32,
     "metadata": {},
     "output_type": "execute_result"
    }
   ],
   "source": [
    "model.fit(X_train, y_train, epochs=100, callbacks=[tb_callback])"
   ]
  },
  {
   "cell_type": "code",
   "execution_count": 33,
   "id": "db4347cb",
   "metadata": {
    "scrolled": true
   },
   "outputs": [],
   "source": [
    "#convert and save file in tfjs format \n",
    "tfjs.converters.save_keras_model(model,os.getcwd())"
   ]
  },
  {
   "cell_type": "code",
   "execution_count": 34,
   "id": "04b9f64c",
   "metadata": {},
   "outputs": [
    {
     "ename": "ValueError",
     "evalue": "The truth value of an array with more than one element is ambiguous. Use a.any() or a.all()",
     "output_type": "error",
     "traceback": [
      "\u001b[1;31m---------------------------------------------------------------------------\u001b[0m",
      "\u001b[1;31mValueError\u001b[0m                                Traceback (most recent call last)",
      "\u001b[1;32m~\\AppData\\Local\\Temp/ipykernel_28696/2584168799.py\u001b[0m in \u001b[0;36m<module>\u001b[1;34m\u001b[0m\n\u001b[1;32m----> 1\u001b[1;33m \u001b[0mmodel\u001b[0m\u001b[1;33m.\u001b[0m\u001b[0mpredict\u001b[0m\u001b[1;33m(\u001b[0m\u001b[0mX_test\u001b[0m\u001b[1;33m,\u001b[0m\u001b[0my_test\u001b[0m\u001b[1;33m)\u001b[0m\u001b[1;33m\u001b[0m\u001b[1;33m\u001b[0m\u001b[0m\n\u001b[0m",
      "\u001b[1;32m~\\Anaconda3\\envs\\tf25\\lib\\site-packages\\keras\\engine\\training.py\u001b[0m in \u001b[0;36mpredict\u001b[1;34m(self, x, batch_size, verbose, steps, callbacks, max_queue_size, workers, use_multiprocessing)\u001b[0m\n\u001b[0;32m   1718\u001b[0m                         '. Consider setting it to AutoShardPolicy.DATA.')\n\u001b[0;32m   1719\u001b[0m \u001b[1;33m\u001b[0m\u001b[0m\n\u001b[1;32m-> 1720\u001b[1;33m       data_handler = data_adapter.get_data_handler(\n\u001b[0m\u001b[0;32m   1721\u001b[0m           \u001b[0mx\u001b[0m\u001b[1;33m=\u001b[0m\u001b[0mx\u001b[0m\u001b[1;33m,\u001b[0m\u001b[1;33m\u001b[0m\u001b[1;33m\u001b[0m\u001b[0m\n\u001b[0;32m   1722\u001b[0m           \u001b[0mbatch_size\u001b[0m\u001b[1;33m=\u001b[0m\u001b[0mbatch_size\u001b[0m\u001b[1;33m,\u001b[0m\u001b[1;33m\u001b[0m\u001b[1;33m\u001b[0m\u001b[0m\n",
      "\u001b[1;32m~\\Anaconda3\\envs\\tf25\\lib\\site-packages\\keras\\engine\\data_adapter.py\u001b[0m in \u001b[0;36mget_data_handler\u001b[1;34m(*args, **kwargs)\u001b[0m\n\u001b[0;32m   1381\u001b[0m   \u001b[1;32mif\u001b[0m \u001b[0mgetattr\u001b[0m\u001b[1;33m(\u001b[0m\u001b[0mkwargs\u001b[0m\u001b[1;33m[\u001b[0m\u001b[1;34m\"model\"\u001b[0m\u001b[1;33m]\u001b[0m\u001b[1;33m,\u001b[0m \u001b[1;34m\"_cluster_coordinator\"\u001b[0m\u001b[1;33m,\u001b[0m \u001b[1;32mNone\u001b[0m\u001b[1;33m)\u001b[0m\u001b[1;33m:\u001b[0m\u001b[1;33m\u001b[0m\u001b[1;33m\u001b[0m\u001b[0m\n\u001b[0;32m   1382\u001b[0m     \u001b[1;32mreturn\u001b[0m \u001b[0m_ClusterCoordinatorDataHandler\u001b[0m\u001b[1;33m(\u001b[0m\u001b[1;33m*\u001b[0m\u001b[0margs\u001b[0m\u001b[1;33m,\u001b[0m \u001b[1;33m**\u001b[0m\u001b[0mkwargs\u001b[0m\u001b[1;33m)\u001b[0m\u001b[1;33m\u001b[0m\u001b[1;33m\u001b[0m\u001b[0m\n\u001b[1;32m-> 1383\u001b[1;33m   \u001b[1;32mreturn\u001b[0m \u001b[0mDataHandler\u001b[0m\u001b[1;33m(\u001b[0m\u001b[1;33m*\u001b[0m\u001b[0margs\u001b[0m\u001b[1;33m,\u001b[0m \u001b[1;33m**\u001b[0m\u001b[0mkwargs\u001b[0m\u001b[1;33m)\u001b[0m\u001b[1;33m\u001b[0m\u001b[1;33m\u001b[0m\u001b[0m\n\u001b[0m\u001b[0;32m   1384\u001b[0m \u001b[1;33m\u001b[0m\u001b[0m\n\u001b[0;32m   1385\u001b[0m \u001b[1;33m\u001b[0m\u001b[0m\n",
      "\u001b[1;32m~\\Anaconda3\\envs\\tf25\\lib\\site-packages\\keras\\engine\\data_adapter.py\u001b[0m in \u001b[0;36m__init__\u001b[1;34m(self, x, y, sample_weight, batch_size, steps_per_epoch, initial_epoch, epochs, shuffle, class_weight, max_queue_size, workers, use_multiprocessing, model, steps_per_execution, distribute)\u001b[0m\n\u001b[0;32m   1136\u001b[0m \u001b[1;33m\u001b[0m\u001b[0m\n\u001b[0;32m   1137\u001b[0m     \u001b[0madapter_cls\u001b[0m \u001b[1;33m=\u001b[0m \u001b[0mselect_data_adapter\u001b[0m\u001b[1;33m(\u001b[0m\u001b[0mx\u001b[0m\u001b[1;33m,\u001b[0m \u001b[0my\u001b[0m\u001b[1;33m)\u001b[0m\u001b[1;33m\u001b[0m\u001b[1;33m\u001b[0m\u001b[0m\n\u001b[1;32m-> 1138\u001b[1;33m     self._adapter = adapter_cls(\n\u001b[0m\u001b[0;32m   1139\u001b[0m         \u001b[0mx\u001b[0m\u001b[1;33m,\u001b[0m\u001b[1;33m\u001b[0m\u001b[1;33m\u001b[0m\u001b[0m\n\u001b[0;32m   1140\u001b[0m         \u001b[0my\u001b[0m\u001b[1;33m,\u001b[0m\u001b[1;33m\u001b[0m\u001b[1;33m\u001b[0m\u001b[0m\n",
      "\u001b[1;32m~\\Anaconda3\\envs\\tf25\\lib\\site-packages\\keras\\engine\\data_adapter.py\u001b[0m in \u001b[0;36m__init__\u001b[1;34m(self, x, y, sample_weights, sample_weight_modes, batch_size, epochs, steps, shuffle, **kwargs)\u001b[0m\n\u001b[0;32m    243\u001b[0m     \u001b[1;31m# If batch_size is not passed but steps is, calculate from the input data.\u001b[0m\u001b[1;33m\u001b[0m\u001b[1;33m\u001b[0m\u001b[1;33m\u001b[0m\u001b[0m\n\u001b[0;32m    244\u001b[0m     \u001b[1;31m# Default to 32 for backwards compat.\u001b[0m\u001b[1;33m\u001b[0m\u001b[1;33m\u001b[0m\u001b[1;33m\u001b[0m\u001b[0m\n\u001b[1;32m--> 245\u001b[1;33m     \u001b[1;32mif\u001b[0m \u001b[1;32mnot\u001b[0m \u001b[0mbatch_size\u001b[0m\u001b[1;33m:\u001b[0m\u001b[1;33m\u001b[0m\u001b[1;33m\u001b[0m\u001b[0m\n\u001b[0m\u001b[0;32m    246\u001b[0m       \u001b[0mbatch_size\u001b[0m \u001b[1;33m=\u001b[0m \u001b[0mint\u001b[0m\u001b[1;33m(\u001b[0m\u001b[0mmath\u001b[0m\u001b[1;33m.\u001b[0m\u001b[0mceil\u001b[0m\u001b[1;33m(\u001b[0m\u001b[0mnum_samples\u001b[0m \u001b[1;33m/\u001b[0m \u001b[0msteps\u001b[0m\u001b[1;33m)\u001b[0m\u001b[1;33m)\u001b[0m \u001b[1;32mif\u001b[0m \u001b[0msteps\u001b[0m \u001b[1;32melse\u001b[0m \u001b[1;36m32\u001b[0m\u001b[1;33m\u001b[0m\u001b[1;33m\u001b[0m\u001b[0m\n\u001b[0;32m    247\u001b[0m \u001b[1;33m\u001b[0m\u001b[0m\n",
      "\u001b[1;31mValueError\u001b[0m: The truth value of an array with more than one element is ambiguous. Use a.any() or a.all()"
     ]
    }
   ],
   "source": []
  },
  {
   "cell_type": "code",
   "execution_count": null,
   "id": "748f3e1c",
   "metadata": {},
   "outputs": [],
   "source": [
    "#save model in python format\n",
    "model.save('gestures.h5')"
   ]
  }
 ],
 "metadata": {
  "kernelspec": {
   "display_name": "Python 3 (ipykernel)",
   "language": "python",
   "name": "python3"
  },
  "language_info": {
   "codemirror_mode": {
    "name": "ipython",
    "version": 3
   },
   "file_extension": ".py",
   "mimetype": "text/x-python",
   "name": "python",
   "nbconvert_exporter": "python",
   "pygments_lexer": "ipython3",
   "version": "3.8.11"
  }
 },
 "nbformat": 4,
 "nbformat_minor": 5
}
