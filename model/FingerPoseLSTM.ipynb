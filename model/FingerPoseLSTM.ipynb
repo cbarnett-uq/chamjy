{
 "cells": [
  {
   "cell_type": "code",
   "execution_count": 20,
   "id": "b3f51415",
   "metadata": {},
   "outputs": [],
   "source": [
    "import numpy as np \n",
    "import matplotlib as plt \n",
    "import os \n",
    "import time\n",
    "import pandas as pd\n",
    "import tensorflowjs as tfjs\n",
    "from sklearn.model_selection import train_test_split\n",
    "from tensorflow.keras import layers,models,activations\n",
    "from tensorflow.keras.utils import to_categorical \n",
    "from tensorflow.keras.models import Sequential \n",
    "from tensorflow.keras.layers import Input,LSTM, Dense,Dropout,InputLayer\n",
    "from tensorflow.keras.callbacks import TensorBoard"
   ]
  },
  {
   "cell_type": "markdown",
   "id": "86b105bb",
   "metadata": {},
   "source": [
    "## Load and Preprocess Data"
   ]
  },
  {
   "cell_type": "code",
   "execution_count": 4,
   "id": "44918efa",
   "metadata": {},
   "outputs": [],
   "source": [
    "DATA_PATH = os.path.DATA_PATH = os.path.join(os.getcwd(),\"Fingerpose_data\")\n",
    "gestures = ['play','pause','nothing']\n",
    "curl_map = {'No Curl':0,'Half Curl':1,'Full Curl':2}\n",
    "direction_map = {'Vertical Up':0,'Vertical Down':1,'Horizontal Left':2,'Horizontal Right':3,'Diagonal Up Right':4,\n",
    "                 'Diagonal Up Left':5,'Diagonal Down Right':6,'Diagonal Down Left':7}\n",
    "label_map = {label:num for num, label in enumerate(gestures)}"
   ]
  },
  {
   "cell_type": "code",
   "execution_count": 5,
   "id": "17ae3ef5",
   "metadata": {},
   "outputs": [],
   "source": [
    "#read data from CSV file and save to a dataset \n",
    "def load_csv(data,gesture,dataset,labels):\n",
    "    data = data.reset_index()\n",
    "    frame,datapoints = [],[]\n",
    "    for index, row in data.iterrows():\n",
    "        frame.append(curl_map[row['Curl']])\n",
    "        frame.append(direction_map[row['Direction']])\n",
    "        if (index+1)%5 == 0:\n",
    "            datapoints.append(frame)\n",
    "            frame = []\n",
    "        if (index+1)%150 == 0:\n",
    "            dataset.append(datapoints)\n",
    "            labels.append(label_map[gesture])\n",
    "            datapoints=[]"
   ]
  },
  {
   "cell_type": "code",
   "execution_count": 6,
   "id": "d9dd2f6d",
   "metadata": {},
   "outputs": [],
   "source": [
    "dataset,labels = [],[]\n",
    "for gesture in gestures:\n",
    "    files = os.listdir(os.path.join(DATA_PATH,gesture))\n",
    "    for file in files:\n",
    "        df = pd.read_csv(os.path.join(DATA_PATH,gesture,file))\n",
    "        load_csv(df,gesture,dataset,labels)\n",
    "        \n",
    "            "
   ]
  },
  {
   "cell_type": "code",
   "execution_count": 7,
   "id": "f032f242",
   "metadata": {
    "scrolled": false
   },
   "outputs": [
    {
     "name": "stdout",
     "output_type": "stream",
     "text": [
      "(120, 30, 10)\n",
      "(120, 3)\n"
     ]
    }
   ],
   "source": [
    "X = np.array(dataset)\n",
    "y = to_categorical(labels).astype(int)\n",
    "print(X.shape)\n",
    "print(y.shape)\n",
    "#X_train, X_test, y_train, y_test = train_test_split(X,y,test_size=0.1)\n"
   ]
  },
  {
   "cell_type": "markdown",
   "id": "cbf1aec1",
   "metadata": {},
   "source": [
    "## Train LSTM Model "
   ]
  },
  {
   "cell_type": "code",
   "execution_count": 15,
   "id": "cc68bc6a",
   "metadata": {},
   "outputs": [],
   "source": [
    "log_dir = os.path.join('Logs')\n",
    "tb_callback = TensorBoard(log_dir=log_dir)"
   ]
  },
  {
   "cell_type": "code",
   "execution_count": 16,
   "id": "9afeab24",
   "metadata": {},
   "outputs": [
    {
     "name": "stdout",
     "output_type": "stream",
     "text": [
      "WARNING:tensorflow:Layer lstm_4 will not use cuDNN kernels since it doesn't meet the criteria. It will use a generic GPU kernel as fallback when running on GPU.\n",
      "WARNING:tensorflow:Layer lstm_5 will not use cuDNN kernels since it doesn't meet the criteria. It will use a generic GPU kernel as fallback when running on GPU.\n",
      "WARNING:tensorflow:Layer lstm_6 will not use cuDNN kernels since it doesn't meet the criteria. It will use a generic GPU kernel as fallback when running on GPU.\n",
      "Model: \"model_1\"\n",
      "_________________________________________________________________\n",
      "Layer (type)                 Output Shape              Param #   \n",
      "=================================================================\n",
      "input_3 (InputLayer)         [(None, 30, 10)]          0         \n",
      "_________________________________________________________________\n",
      "lstm_4 (LSTM)                (None, 30, 32)            5504      \n",
      "_________________________________________________________________\n",
      "dropout (Dropout)            (None, 30, 32)            0         \n",
      "_________________________________________________________________\n",
      "lstm_5 (LSTM)                (None, 30, 64)            24832     \n",
      "_________________________________________________________________\n",
      "dropout_1 (Dropout)          (None, 30, 64)            0         \n",
      "_________________________________________________________________\n",
      "lstm_6 (LSTM)                (None, 32)                12416     \n",
      "_________________________________________________________________\n",
      "dropout_2 (Dropout)          (None, 32)                0         \n",
      "_________________________________________________________________\n",
      "dense_4 (Dense)              (None, 32)                1056      \n",
      "_________________________________________________________________\n",
      "dense_5 (Dense)              (None, 64)                2112      \n",
      "_________________________________________________________________\n",
      "dense_6 (Dense)              (None, 32)                2080      \n",
      "_________________________________________________________________\n",
      "dense_7 (Dense)              (None, 3)                 99        \n",
      "=================================================================\n",
      "Total params: 48,099\n",
      "Trainable params: 48,099\n",
      "Non-trainable params: 0\n",
      "_________________________________________________________________\n"
     ]
    }
   ],
   "source": [
    "inputs = Input((30,10))\n",
    "lstm = LSTM(32,return_sequences=True, activation = 'relu',input_shape=(30,10))(inputs)\n",
    "dropout = Dropout(0.2)(lstm)\n",
    "lstm2 = LSTM(64, return_sequences=True,activation = 'relu')(dropout)\n",
    "dropout1 = Dropout(0.2)(lstm2)\n",
    "lstm3 = LSTM(32, activation = 'relu')(dropout1)\n",
    "dropout2 = Dropout(0.2)(lstm3)\n",
    "de = Dense(32, activation = 'relu')(dropout2)\n",
    "de1 = Dense(64, activation='relu')(de)\n",
    "de2 = Dense(32, activation='relu')(de1)\n",
    "outputs = Dense(len(gestures),activation='softmax')(de2)\n",
    "model = models.Model(inputs,outputs)\n",
    "model.compile(optimizer='Adam', loss='categorical_crossentropy', metrics=['categorical_accuracy'])\n",
    "model.summary()"
   ]
  },
  {
   "cell_type": "code",
   "execution_count": 29,
   "id": "f28cc893",
   "metadata": {},
   "outputs": [],
   "source": [
    "model = Sequential([\n",
    "    InputLayer(input_shape=(30,10)),\n",
    "    Dropout(0.2),\n",
    "    LSTM(32,input_shape=(30,10)),\n",
    "    Dropout(0.5),\n",
    "    Dense(16, activation='relu'),\n",
    "    Dense(len(gestures), activation='softmax')\n",
    "])\n"
   ]
  },
  {
   "cell_type": "code",
   "execution_count": 30,
   "id": "b39488c9",
   "metadata": {},
   "outputs": [
    {
     "name": "stdout",
     "output_type": "stream",
     "text": [
      "Model: \"sequential_2\"\n",
      "_________________________________________________________________\n",
      "Layer (type)                 Output Shape              Param #   \n",
      "=================================================================\n",
      "dropout_9 (Dropout)          (None, 30, 10)            0         \n",
      "_________________________________________________________________\n",
      "lstm_10 (LSTM)               (None, 32)                5504      \n",
      "_________________________________________________________________\n",
      "dropout_10 (Dropout)         (None, 32)                0         \n",
      "_________________________________________________________________\n",
      "dense_13 (Dense)             (None, 16)                528       \n",
      "_________________________________________________________________\n",
      "dense_14 (Dense)             (None, 3)                 51        \n",
      "=================================================================\n",
      "Total params: 6,083\n",
      "Trainable params: 6,083\n",
      "Non-trainable params: 0\n",
      "_________________________________________________________________\n"
     ]
    }
   ],
   "source": [
    "model.compile(optimizer='Adam', loss='categorical_crossentropy', metrics=['categorical_accuracy'])\n",
    "model.summary()"
   ]
  },
  {
   "cell_type": "code",
   "execution_count": 31,
   "id": "aa596974",
   "metadata": {},
   "outputs": [
    {
     "name": "stdout",
     "output_type": "stream",
     "text": [
      "Epoch 1/100\n",
      "4/4 [==============================] - 5s 141ms/step - loss: 1.1501 - categorical_accuracy: 0.3500\n",
      "Epoch 2/100\n",
      "4/4 [==============================] - 0s 12ms/step - loss: 1.1349 - categorical_accuracy: 0.3000\n",
      "Epoch 3/100\n",
      "4/4 [==============================] - 0s 17ms/step - loss: 1.1441 - categorical_accuracy: 0.3667\n",
      "Epoch 4/100\n",
      "4/4 [==============================] - 0s 17ms/step - loss: 1.1047 - categorical_accuracy: 0.3250\n",
      "Epoch 5/100\n",
      "4/4 [==============================] - 0s 10ms/step - loss: 1.0970 - categorical_accuracy: 0.3333\n",
      "Epoch 6/100\n",
      "4/4 [==============================] - 0s 12ms/step - loss: 1.0580 - categorical_accuracy: 0.4667\n",
      "Epoch 7/100\n",
      "4/4 [==============================] - 0s 9ms/step - loss: 1.0400 - categorical_accuracy: 0.5250\n",
      "Epoch 8/100\n",
      "4/4 [==============================] - 0s 9ms/step - loss: 1.0205 - categorical_accuracy: 0.5417\n",
      "Epoch 9/100\n",
      "4/4 [==============================] - 0s 9ms/step - loss: 0.9794 - categorical_accuracy: 0.5333\n",
      "Epoch 10/100\n",
      "4/4 [==============================] - 0s 9ms/step - loss: 1.0154 - categorical_accuracy: 0.4917\n",
      "Epoch 11/100\n",
      "4/4 [==============================] - 0s 10ms/step - loss: 0.9688 - categorical_accuracy: 0.5167\n",
      "Epoch 12/100\n",
      "4/4 [==============================] - 0s 16ms/step - loss: 0.9276 - categorical_accuracy: 0.6167\n",
      "Epoch 13/100\n",
      "4/4 [==============================] - 0s 16ms/step - loss: 0.8852 - categorical_accuracy: 0.6833\n",
      "Epoch 14/100\n",
      "4/4 [==============================] - 0s 8ms/step - loss: 0.8544 - categorical_accuracy: 0.6667\n",
      "Epoch 15/100\n",
      "4/4 [==============================] - 0s 7ms/step - loss: 0.8109 - categorical_accuracy: 0.6750\n",
      "Epoch 16/100\n",
      "4/4 [==============================] - 0s 9ms/step - loss: 0.8128 - categorical_accuracy: 0.6083\n",
      "Epoch 17/100\n",
      "4/4 [==============================] - 0s 11ms/step - loss: 0.6760 - categorical_accuracy: 0.7917\n",
      "Epoch 18/100\n",
      "4/4 [==============================] - 0s 8ms/step - loss: 0.6409 - categorical_accuracy: 0.8083\n",
      "Epoch 19/100\n",
      "4/4 [==============================] - 0s 7ms/step - loss: 0.6374 - categorical_accuracy: 0.8250\n",
      "Epoch 20/100\n",
      "4/4 [==============================] - 0s 8ms/step - loss: 0.5624 - categorical_accuracy: 0.8750\n",
      "Epoch 21/100\n",
      "4/4 [==============================] - 0s 9ms/step - loss: 0.5283 - categorical_accuracy: 0.8083\n",
      "Epoch 22/100\n",
      "4/4 [==============================] - 0s 7ms/step - loss: 0.5272 - categorical_accuracy: 0.8000\n",
      "Epoch 23/100\n",
      "4/4 [==============================] - 0s 8ms/step - loss: 0.4975 - categorical_accuracy: 0.8750\n",
      "Epoch 24/100\n",
      "4/4 [==============================] - 0s 7ms/step - loss: 0.4537 - categorical_accuracy: 0.8667\n",
      "Epoch 25/100\n",
      "4/4 [==============================] - 0s 10ms/step - loss: 0.4508 - categorical_accuracy: 0.8500\n",
      "Epoch 26/100\n",
      "4/4 [==============================] - 0s 8ms/step - loss: 0.3814 - categorical_accuracy: 0.8583\n",
      "Epoch 27/100\n",
      "4/4 [==============================] - 0s 9ms/step - loss: 0.4039 - categorical_accuracy: 0.8667\n",
      "Epoch 28/100\n",
      "4/4 [==============================] - 0s 8ms/step - loss: 0.3178 - categorical_accuracy: 0.9000\n",
      "Epoch 29/100\n",
      "4/4 [==============================] - 0s 9ms/step - loss: 0.3129 - categorical_accuracy: 0.9083\n",
      "Epoch 30/100\n",
      "4/4 [==============================] - 0s 8ms/step - loss: 0.2703 - categorical_accuracy: 0.9167\n",
      "Epoch 31/100\n",
      "4/4 [==============================] - 0s 8ms/step - loss: 0.2762 - categorical_accuracy: 0.9333\n",
      "Epoch 32/100\n",
      "4/4 [==============================] - 0s 10ms/step - loss: 0.3091 - categorical_accuracy: 0.9083\n",
      "Epoch 33/100\n",
      "4/4 [==============================] - 0s 10ms/step - loss: 0.2082 - categorical_accuracy: 0.9583\n",
      "Epoch 34/100\n",
      "4/4 [==============================] - 0s 10ms/step - loss: 0.2490 - categorical_accuracy: 0.9083\n",
      "Epoch 35/100\n",
      "4/4 [==============================] - 0s 9ms/step - loss: 0.2393 - categorical_accuracy: 0.9417\n",
      "Epoch 36/100\n",
      "4/4 [==============================] - 0s 8ms/step - loss: 0.2338 - categorical_accuracy: 0.9167\n",
      "Epoch 37/100\n",
      "4/4 [==============================] - 0s 9ms/step - loss: 0.2202 - categorical_accuracy: 0.9333\n",
      "Epoch 38/100\n",
      "4/4 [==============================] - 0s 9ms/step - loss: 0.1595 - categorical_accuracy: 0.9417\n",
      "Epoch 39/100\n",
      "4/4 [==============================] - 0s 11ms/step - loss: 0.1722 - categorical_accuracy: 0.9500\n",
      "Epoch 40/100\n",
      "4/4 [==============================] - 0s 10ms/step - loss: 0.1806 - categorical_accuracy: 0.9667\n",
      "Epoch 41/100\n",
      "4/4 [==============================] - 0s 10ms/step - loss: 0.1501 - categorical_accuracy: 0.9667\n",
      "Epoch 42/100\n",
      "4/4 [==============================] - 0s 8ms/step - loss: 0.1558 - categorical_accuracy: 0.9583\n",
      "Epoch 43/100\n",
      "4/4 [==============================] - 0s 8ms/step - loss: 0.1343 - categorical_accuracy: 0.9583\n",
      "Epoch 44/100\n",
      "4/4 [==============================] - 0s 11ms/step - loss: 0.1275 - categorical_accuracy: 0.9750\n",
      "Epoch 45/100\n",
      "4/4 [==============================] - 0s 9ms/step - loss: 0.1473 - categorical_accuracy: 0.9583\n",
      "Epoch 46/100\n",
      "4/4 [==============================] - 0s 9ms/step - loss: 0.1958 - categorical_accuracy: 0.9500\n",
      "Epoch 47/100\n",
      "4/4 [==============================] - 0s 10ms/step - loss: 0.2142 - categorical_accuracy: 0.9417\n",
      "Epoch 48/100\n",
      "4/4 [==============================] - 0s 9ms/step - loss: 0.1576 - categorical_accuracy: 0.9500\n",
      "Epoch 49/100\n",
      "4/4 [==============================] - 0s 9ms/step - loss: 0.1502 - categorical_accuracy: 0.9500\n",
      "Epoch 50/100\n",
      "4/4 [==============================] - 0s 9ms/step - loss: 0.1389 - categorical_accuracy: 0.9583\n",
      "Epoch 51/100\n",
      "4/4 [==============================] - 0s 15ms/step - loss: 0.1120 - categorical_accuracy: 0.9667\n",
      "Epoch 52/100\n",
      "4/4 [==============================] - 0s 9ms/step - loss: 0.1653 - categorical_accuracy: 0.9583\n",
      "Epoch 53/100\n",
      "4/4 [==============================] - 0s 15ms/step - loss: 0.1221 - categorical_accuracy: 0.9500\n",
      "Epoch 54/100\n",
      "4/4 [==============================] - 0s 9ms/step - loss: 0.1524 - categorical_accuracy: 0.9667\n",
      "Epoch 55/100\n",
      "4/4 [==============================] - 0s 12ms/step - loss: 0.0961 - categorical_accuracy: 0.9750\n",
      "Epoch 56/100\n",
      "4/4 [==============================] - 0s 9ms/step - loss: 0.1232 - categorical_accuracy: 0.9583\n",
      "Epoch 57/100\n",
      "4/4 [==============================] - 0s 11ms/step - loss: 0.1152 - categorical_accuracy: 0.9750\n",
      "Epoch 58/100\n",
      "4/4 [==============================] - 0s 8ms/step - loss: 0.1040 - categorical_accuracy: 0.9583\n",
      "Epoch 59/100\n",
      "4/4 [==============================] - 0s 8ms/step - loss: 0.1303 - categorical_accuracy: 0.9667\n",
      "Epoch 60/100\n",
      "4/4 [==============================] - 0s 10ms/step - loss: 0.1078 - categorical_accuracy: 0.9583\n",
      "Epoch 61/100\n",
      "4/4 [==============================] - 0s 11ms/step - loss: 0.1013 - categorical_accuracy: 0.9667\n",
      "Epoch 62/100\n",
      "4/4 [==============================] - 0s 9ms/step - loss: 0.0694 - categorical_accuracy: 0.9917\n",
      "Epoch 63/100\n",
      "4/4 [==============================] - 0s 10ms/step - loss: 0.1015 - categorical_accuracy: 0.9667\n",
      "Epoch 64/100\n",
      "4/4 [==============================] - 0s 11ms/step - loss: 0.0656 - categorical_accuracy: 0.9667\n",
      "Epoch 65/100\n",
      "4/4 [==============================] - 0s 8ms/step - loss: 0.0604 - categorical_accuracy: 0.9833\n",
      "Epoch 66/100\n",
      "4/4 [==============================] - 0s 9ms/step - loss: 0.0617 - categorical_accuracy: 0.9750\n",
      "Epoch 67/100\n",
      "4/4 [==============================] - 0s 9ms/step - loss: 0.0389 - categorical_accuracy: 0.9917\n",
      "Epoch 68/100\n",
      "4/4 [==============================] - 0s 11ms/step - loss: 0.0465 - categorical_accuracy: 0.9917\n",
      "Epoch 69/100\n",
      "4/4 [==============================] - 0s 11ms/step - loss: 0.0387 - categorical_accuracy: 0.9833\n",
      "Epoch 70/100\n",
      "4/4 [==============================] - 0s 7ms/step - loss: 0.0543 - categorical_accuracy: 0.9833\n",
      "Epoch 71/100\n",
      "4/4 [==============================] - 0s 8ms/step - loss: 0.0946 - categorical_accuracy: 0.9833\n",
      "Epoch 72/100\n",
      "4/4 [==============================] - 0s 9ms/step - loss: 0.0471 - categorical_accuracy: 0.9917\n",
      "Epoch 73/100\n",
      "4/4 [==============================] - 0s 12ms/step - loss: 0.0502 - categorical_accuracy: 0.9833\n",
      "Epoch 74/100\n",
      "4/4 [==============================] - 0s 11ms/step - loss: 0.0760 - categorical_accuracy: 0.9833\n",
      "Epoch 75/100\n"
     ]
    },
    {
     "name": "stdout",
     "output_type": "stream",
     "text": [
      "4/4 [==============================] - 0s 9ms/step - loss: 0.0777 - categorical_accuracy: 0.9667\n",
      "Epoch 76/100\n",
      "4/4 [==============================] - 0s 7ms/step - loss: 0.1084 - categorical_accuracy: 0.9583\n",
      "Epoch 77/100\n",
      "4/4 [==============================] - 0s 10ms/step - loss: 0.0834 - categorical_accuracy: 0.9750\n",
      "Epoch 78/100\n",
      "4/4 [==============================] - 0s 13ms/step - loss: 0.0746 - categorical_accuracy: 0.9833\n",
      "Epoch 79/100\n",
      "4/4 [==============================] - 0s 9ms/step - loss: 0.0818 - categorical_accuracy: 0.9750\n",
      "Epoch 80/100\n",
      "4/4 [==============================] - 0s 12ms/step - loss: 0.0413 - categorical_accuracy: 1.0000\n",
      "Epoch 81/100\n",
      "4/4 [==============================] - 0s 9ms/step - loss: 0.0560 - categorical_accuracy: 0.9750\n",
      "Epoch 82/100\n",
      "4/4 [==============================] - 0s 9ms/step - loss: 0.0628 - categorical_accuracy: 0.9833\n",
      "Epoch 83/100\n",
      "4/4 [==============================] - 0s 10ms/step - loss: 0.0284 - categorical_accuracy: 0.9917\n",
      "Epoch 84/100\n",
      "4/4 [==============================] - 0s 10ms/step - loss: 0.0760 - categorical_accuracy: 0.9833\n",
      "Epoch 85/100\n",
      "4/4 [==============================] - 0s 10ms/step - loss: 0.0289 - categorical_accuracy: 0.9917\n",
      "Epoch 86/100\n",
      "4/4 [==============================] - 0s 13ms/step - loss: 0.0691 - categorical_accuracy: 0.9667\n",
      "Epoch 87/100\n",
      "4/4 [==============================] - 0s 14ms/step - loss: 0.0211 - categorical_accuracy: 1.0000\n",
      "Epoch 88/100\n",
      "4/4 [==============================] - 0s 15ms/step - loss: 0.0538 - categorical_accuracy: 0.9833\n",
      "Epoch 89/100\n",
      "4/4 [==============================] - 0s 9ms/step - loss: 0.0304 - categorical_accuracy: 0.9917\n",
      "Epoch 90/100\n",
      "4/4 [==============================] - 0s 11ms/step - loss: 0.0469 - categorical_accuracy: 0.9833\n",
      "Epoch 91/100\n",
      "4/4 [==============================] - 0s 19ms/step - loss: 0.0396 - categorical_accuracy: 1.0000\n",
      "Epoch 92/100\n",
      "4/4 [==============================] - 0s 17ms/step - loss: 0.0171 - categorical_accuracy: 1.0000\n",
      "Epoch 93/100\n",
      "4/4 [==============================] - 0s 10ms/step - loss: 0.0221 - categorical_accuracy: 1.0000\n",
      "Epoch 94/100\n",
      "4/4 [==============================] - 0s 10ms/step - loss: 0.0314 - categorical_accuracy: 0.9917\n",
      "Epoch 95/100\n",
      "4/4 [==============================] - 0s 8ms/step - loss: 0.0223 - categorical_accuracy: 1.0000\n",
      "Epoch 96/100\n",
      "4/4 [==============================] - 0s 7ms/step - loss: 0.0194 - categorical_accuracy: 1.0000\n",
      "Epoch 97/100\n",
      "4/4 [==============================] - 0s 6ms/step - loss: 0.0229 - categorical_accuracy: 1.0000\n",
      "Epoch 98/100\n",
      "4/4 [==============================] - 0s 7ms/step - loss: 0.0289 - categorical_accuracy: 1.0000\n",
      "Epoch 99/100\n",
      "4/4 [==============================] - 0s 6ms/step - loss: 0.0211 - categorical_accuracy: 1.0000\n",
      "Epoch 100/100\n",
      "4/4 [==============================] - 0s 6ms/step - loss: 0.0346 - categorical_accuracy: 0.9917\n"
     ]
    },
    {
     "data": {
      "text/plain": [
       "<keras.callbacks.History at 0x15bc4d398b0>"
      ]
     },
     "execution_count": 31,
     "metadata": {},
     "output_type": "execute_result"
    }
   ],
   "source": [
    "model.fit(X, y, epochs=100, callbacks=[tb_callback])"
   ]
  },
  {
   "cell_type": "code",
   "execution_count": 32,
   "id": "db4347cb",
   "metadata": {
    "scrolled": true
   },
   "outputs": [],
   "source": [
    "#convert and save file in tfjs format \n",
    "tfjs.converters.save_keras_model(model,os.getcwd())"
   ]
  },
  {
   "cell_type": "code",
   "execution_count": null,
   "id": "04b9f64c",
   "metadata": {
    "scrolled": true
   },
   "outputs": [],
   "source": []
  },
  {
   "cell_type": "code",
   "execution_count": 21,
   "id": "748f3e1c",
   "metadata": {},
   "outputs": [],
   "source": [
    "#save model in python format\n",
    "model.save('gestures.h5')"
   ]
  },
  {
   "cell_type": "code",
   "execution_count": null,
   "id": "ddd3c2c0",
   "metadata": {},
   "outputs": [],
   "source": []
  }
 ],
 "metadata": {
  "kernelspec": {
   "display_name": "Python 3 (ipykernel)",
   "language": "python",
   "name": "python3"
  },
  "language_info": {
   "codemirror_mode": {
    "name": "ipython",
    "version": 3
   },
   "file_extension": ".py",
   "mimetype": "text/x-python",
   "name": "python",
   "nbconvert_exporter": "python",
   "pygments_lexer": "ipython3",
   "version": "3.8.11"
  }
 },
 "nbformat": 4,
 "nbformat_minor": 5
}
