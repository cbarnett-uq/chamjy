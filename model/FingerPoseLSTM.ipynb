{
 "cells": [
  {
   "cell_type": "code",
   "execution_count": 1,
   "id": "b3f51415",
   "metadata": {},
   "outputs": [],
   "source": [
    "import numpy as np \n",
    "import matplotlib as plt \n",
    "import os \n",
    "import time\n",
    "import pandas as pd\n",
    "#import tensorflowjs as tfjs\n",
    "#from sklearn.model_selection import train_test_split\n",
    "from tensorflow.keras import layers,models,activations\n",
    "from tensorflow.keras.utils import to_categorical \n",
    "from tensorflow.keras.models import Sequential \n",
    "from tensorflow.keras.layers import Input,LSTM, Dense\n",
    "from tensorflow.keras.callbacks import TensorBoard"
   ]
  },
  {
   "cell_type": "markdown",
   "id": "86b105bb",
   "metadata": {},
   "source": [
    "## Load and Preprocess Data"
   ]
  },
  {
   "cell_type": "code",
   "execution_count": 2,
   "id": "44918efa",
   "metadata": {},
   "outputs": [],
   "source": [
    "DATA_PATH = os.path.DATA_PATH = os.path.join(os.getcwd(),\"Fingerpose_data\")\n",
    "gestures = ['play','pause','nothing']\n",
    "curl_map = {'No Curl':0,'Half Curl':1,'Full Curl':2}\n",
    "direction_map = {'Vertical Up':0,'Vertical Down':1,'Horizontal Left':2,'Horizontal Right':3,'Diagonal Up Right':4,\n",
    "                 'Diagonal Up Left':5,'Diagonal Down Right':6,'Diagonal Down Left':7}\n",
    "label_map = {label:num for num, label in enumerate(gestures)}"
   ]
  },
  {
   "cell_type": "code",
   "execution_count": 3,
   "id": "17ae3ef5",
   "metadata": {},
   "outputs": [],
   "source": [
    "#read data from CSV file and save to a dataset \n",
    "def load_csv(data,gesture,dataset,labels):\n",
    "    data = data.reset_index()\n",
    "    frame,datapoints = [],[]\n",
    "    for index, row in data.iterrows():\n",
    "        frame.append(curl_map[row['Curl']])\n",
    "        frame.append(direction_map[row['Direction']])\n",
    "        if (index+1)%5 == 0:\n",
    "            datapoints.append(frame)\n",
    "            frame = []\n",
    "        if (index+1)%150 == 0:\n",
    "            dataset.append(datapoints)\n",
    "            labels.append(label_map[gesture])\n",
    "            datapoints=[]"
   ]
  },
  {
   "cell_type": "code",
   "execution_count": 4,
   "id": "d9dd2f6d",
   "metadata": {},
   "outputs": [],
   "source": [
    "dataset,labels = [],[]\n",
    "for gesture in gestures:\n",
    "    files = os.listdir(os.path.join(DATA_PATH,gesture))\n",
    "    for file in files:\n",
    "        df = pd.read_csv(os.path.join(DATA_PATH,gesture,file))\n",
    "        load_csv(df,gesture,dataset,labels)\n",
    "        \n",
    "            "
   ]
  },
  {
   "cell_type": "code",
   "execution_count": 6,
   "id": "f032f242",
   "metadata": {
    "scrolled": false
   },
   "outputs": [
    {
     "name": "stdout",
     "output_type": "stream",
     "text": [
      "(60, 30, 10)\n",
      "(60, 3)\n"
     ]
    }
   ],
   "source": [
    "X = np.array(dataset)\n",
    "y = to_categorical(labels).astype(int)\n",
    "print(X.shape)\n",
    "print(y.shape)\n",
    "#X_train, X_test, y_train, y_test = train_test_split(X,y,test_size=0.1)\n"
   ]
  },
  {
   "cell_type": "markdown",
   "id": "cbf1aec1",
   "metadata": {},
   "source": [
    "## Train LSTM Model "
   ]
  },
  {
   "cell_type": "code",
   "execution_count": 18,
   "id": "cc68bc6a",
   "metadata": {},
   "outputs": [],
   "source": [
    "log_dir = os.path.join('Logs')\n",
    "tb_callback = TensorBoard(log_dir=log_dir)"
   ]
  },
  {
   "cell_type": "code",
   "execution_count": 19,
   "id": "9afeab24",
   "metadata": {},
   "outputs": [
    {
     "name": "stdout",
     "output_type": "stream",
     "text": [
      "Model: \"model_1\"\n",
      "_________________________________________________________________\n",
      " Layer (type)                Output Shape              Param #   \n",
      "=================================================================\n",
      " input_8 (InputLayer)        [(None, 30, 10)]          0         \n",
      "                                                                 \n",
      " lstm_21 (LSTM)              (None, 30, 64)            19200     \n",
      "                                                                 \n",
      " lstm_22 (LSTM)              (None, 30, 128)           98816     \n",
      "                                                                 \n",
      " lstm_23 (LSTM)              (None, 64)                49408     \n",
      "                                                                 \n",
      " dense_4 (Dense)             (None, 64)                4160      \n",
      "                                                                 \n",
      " dense_5 (Dense)             (None, 128)               8320      \n",
      "                                                                 \n",
      " dense_6 (Dense)             (None, 64)                8256      \n",
      "                                                                 \n",
      " dense_7 (Dense)             (None, 3)                 195       \n",
      "                                                                 \n",
      "=================================================================\n",
      "Total params: 188,355\n",
      "Trainable params: 188,355\n",
      "Non-trainable params: 0\n",
      "_________________________________________________________________\n"
     ]
    }
   ],
   "source": [
    "inputs = Input((30,10))\n",
    "lstm = LSTM(64,return_sequences=True, activation = 'relu',input_shape=(30,10))(inputs)\n",
    "lstm2 = LSTM(128, return_sequences=True,activation = 'relu')(lstm)\n",
    "lstm3 = LSTM(64, activation = 'relu')(lstm2)\n",
    "de = Dense(64, activation = 'relu')(lstm3)\n",
    "de1 = Dense(128, activation='relu')(de)\n",
    "de2 = Dense(64, activation='relu')(de1)\n",
    "outputs = Dense(len(gestures),activation='softmax')(de2)\n",
    "model = models.Model(inputs,outputs)\n",
    "model.compile(optimizer='Adam', loss='categorical_crossentropy', metrics=['categorical_accuracy'])\n",
    "model.summary()"
   ]
  },
  {
   "cell_type": "code",
   "execution_count": 20,
   "id": "aa596974",
   "metadata": {},
   "outputs": [
    {
     "name": "stdout",
     "output_type": "stream",
     "text": [
      "Epoch 1/100\n"
     ]
    },
    {
     "name": "stderr",
     "output_type": "stream",
     "text": [
      "2022-09-15 22:13:17.112116: W tensorflow/core/platform/profile_utils/cpu_utils.cc:128] Failed to get CPU frequency: 0 Hz\n"
     ]
    },
    {
     "name": "stdout",
     "output_type": "stream",
     "text": [
      "2/2 [==============================] - 1s 26ms/step - loss: 1.0848 - categorical_accuracy: 0.3167\n",
      "Epoch 2/100\n",
      "2/2 [==============================] - 0s 20ms/step - loss: 1.0924 - categorical_accuracy: 0.3833\n",
      "Epoch 3/100\n",
      "2/2 [==============================] - 0s 26ms/step - loss: 1.0620 - categorical_accuracy: 0.3500\n",
      "Epoch 4/100\n",
      "2/2 [==============================] - 0s 22ms/step - loss: 1.0240 - categorical_accuracy: 0.3833\n",
      "Epoch 5/100\n",
      "2/2 [==============================] - 0s 22ms/step - loss: 0.9912 - categorical_accuracy: 0.5000\n",
      "Epoch 6/100\n",
      "2/2 [==============================] - 0s 22ms/step - loss: 0.9025 - categorical_accuracy: 0.6333\n",
      "Epoch 7/100\n",
      "2/2 [==============================] - 0s 22ms/step - loss: 0.7290 - categorical_accuracy: 0.6833\n",
      "Epoch 8/100\n",
      "2/2 [==============================] - 0s 22ms/step - loss: 0.5978 - categorical_accuracy: 0.7667\n",
      "Epoch 9/100\n",
      "2/2 [==============================] - 0s 21ms/step - loss: 0.5190 - categorical_accuracy: 0.8000\n",
      "Epoch 10/100\n",
      "2/2 [==============================] - 0s 21ms/step - loss: 0.5655 - categorical_accuracy: 0.8000\n",
      "Epoch 11/100\n",
      "2/2 [==============================] - 0s 22ms/step - loss: 0.4900 - categorical_accuracy: 0.8500\n",
      "Epoch 12/100\n",
      "2/2 [==============================] - 0s 22ms/step - loss: 0.4789 - categorical_accuracy: 0.8500\n",
      "Epoch 13/100\n",
      "2/2 [==============================] - 0s 21ms/step - loss: 0.2945 - categorical_accuracy: 0.9167\n",
      "Epoch 14/100\n",
      "2/2 [==============================] - 0s 22ms/step - loss: 0.2056 - categorical_accuracy: 0.9500\n",
      "Epoch 15/100\n",
      "2/2 [==============================] - 0s 21ms/step - loss: 0.5303 - categorical_accuracy: 0.8000\n",
      "Epoch 16/100\n",
      "2/2 [==============================] - 0s 21ms/step - loss: 0.4672 - categorical_accuracy: 0.8500\n",
      "Epoch 17/100\n",
      "2/2 [==============================] - 0s 21ms/step - loss: 0.4237 - categorical_accuracy: 0.8333\n",
      "Epoch 18/100\n",
      "2/2 [==============================] - 0s 21ms/step - loss: 0.4050 - categorical_accuracy: 0.8667\n",
      "Epoch 19/100\n",
      "2/2 [==============================] - 0s 21ms/step - loss: 0.7007 - categorical_accuracy: 0.8500\n",
      "Epoch 20/100\n",
      "2/2 [==============================] - 0s 23ms/step - loss: 0.2305 - categorical_accuracy: 0.9000\n",
      "Epoch 21/100\n",
      "2/2 [==============================] - 0s 21ms/step - loss: 0.2530 - categorical_accuracy: 0.9167\n",
      "Epoch 22/100\n",
      "2/2 [==============================] - 0s 22ms/step - loss: 0.2189 - categorical_accuracy: 0.9333\n",
      "Epoch 23/100\n",
      "2/2 [==============================] - 0s 22ms/step - loss: 0.1844 - categorical_accuracy: 0.9167\n",
      "Epoch 24/100\n",
      "2/2 [==============================] - 0s 21ms/step - loss: 0.1788 - categorical_accuracy: 0.9167\n",
      "Epoch 25/100\n",
      "2/2 [==============================] - 0s 22ms/step - loss: 0.1531 - categorical_accuracy: 0.9500\n",
      "Epoch 26/100\n",
      "2/2 [==============================] - 0s 22ms/step - loss: 0.1018 - categorical_accuracy: 0.9500\n",
      "Epoch 27/100\n",
      "2/2 [==============================] - 0s 20ms/step - loss: 0.0794 - categorical_accuracy: 0.9667\n",
      "Epoch 28/100\n",
      "2/2 [==============================] - 0s 22ms/step - loss: 0.0514 - categorical_accuracy: 1.0000\n",
      "Epoch 29/100\n",
      "2/2 [==============================] - 0s 23ms/step - loss: 0.0472 - categorical_accuracy: 0.9833\n",
      "Epoch 30/100\n",
      "2/2 [==============================] - 0s 24ms/step - loss: 0.0251 - categorical_accuracy: 1.0000\n",
      "Epoch 31/100\n",
      "2/2 [==============================] - 0s 22ms/step - loss: 0.0117 - categorical_accuracy: 1.0000\n",
      "Epoch 32/100\n",
      "2/2 [==============================] - 0s 21ms/step - loss: 0.0096 - categorical_accuracy: 1.0000\n",
      "Epoch 33/100\n",
      "2/2 [==============================] - 0s 21ms/step - loss: 1.0745 - categorical_accuracy: 0.8333\n",
      "Epoch 34/100\n",
      "2/2 [==============================] - 0s 23ms/step - loss: 0.7976 - categorical_accuracy: 0.8000\n",
      "Epoch 35/100\n",
      "2/2 [==============================] - 0s 23ms/step - loss: 0.1193 - categorical_accuracy: 0.9667\n",
      "Epoch 36/100\n",
      "2/2 [==============================] - 0s 23ms/step - loss: 0.2867 - categorical_accuracy: 0.8833\n",
      "Epoch 37/100\n",
      "2/2 [==============================] - 0s 22ms/step - loss: 0.2756 - categorical_accuracy: 0.8833\n",
      "Epoch 38/100\n",
      "2/2 [==============================] - 0s 22ms/step - loss: 0.3088 - categorical_accuracy: 0.9000\n",
      "Epoch 39/100\n",
      "2/2 [==============================] - 0s 23ms/step - loss: 0.2310 - categorical_accuracy: 0.9500\n",
      "Epoch 40/100\n",
      "2/2 [==============================] - 0s 22ms/step - loss: 0.2176 - categorical_accuracy: 0.9167\n",
      "Epoch 41/100\n",
      "2/2 [==============================] - 0s 22ms/step - loss: 0.1215 - categorical_accuracy: 0.9833\n",
      "Epoch 42/100\n",
      "2/2 [==============================] - 0s 21ms/step - loss: 0.1652 - categorical_accuracy: 0.9333\n",
      "Epoch 43/100\n",
      "2/2 [==============================] - 0s 23ms/step - loss: 0.0599 - categorical_accuracy: 0.9833\n",
      "Epoch 44/100\n",
      "2/2 [==============================] - 0s 23ms/step - loss: 0.0633 - categorical_accuracy: 0.9833\n",
      "Epoch 45/100\n",
      "2/2 [==============================] - 0s 22ms/step - loss: 0.0328 - categorical_accuracy: 1.0000\n",
      "Epoch 46/100\n",
      "2/2 [==============================] - 0s 25ms/step - loss: 0.0386 - categorical_accuracy: 1.0000\n",
      "Epoch 47/100\n",
      "2/2 [==============================] - 0s 26ms/step - loss: 0.0182 - categorical_accuracy: 1.0000\n",
      "Epoch 48/100\n",
      "2/2 [==============================] - 0s 26ms/step - loss: 0.1610 - categorical_accuracy: 0.9500\n",
      "Epoch 49/100\n",
      "2/2 [==============================] - 0s 25ms/step - loss: 0.1257 - categorical_accuracy: 0.9500\n",
      "Epoch 50/100\n",
      "2/2 [==============================] - 0s 25ms/step - loss: 0.1963 - categorical_accuracy: 0.9667\n",
      "Epoch 51/100\n",
      "2/2 [==============================] - 0s 25ms/step - loss: 0.2306 - categorical_accuracy: 0.9333\n",
      "Epoch 52/100\n",
      "2/2 [==============================] - 0s 26ms/step - loss: 0.1477 - categorical_accuracy: 0.9500\n",
      "Epoch 53/100\n",
      "2/2 [==============================] - 0s 25ms/step - loss: 0.1184 - categorical_accuracy: 0.9667\n",
      "Epoch 54/100\n",
      "2/2 [==============================] - 0s 26ms/step - loss: 0.0738 - categorical_accuracy: 1.0000\n",
      "Epoch 55/100\n",
      "2/2 [==============================] - 0s 25ms/step - loss: 0.0517 - categorical_accuracy: 1.0000\n",
      "Epoch 56/100\n",
      "2/2 [==============================] - 0s 25ms/step - loss: 0.0281 - categorical_accuracy: 1.0000\n",
      "Epoch 57/100\n",
      "2/2 [==============================] - 0s 25ms/step - loss: 0.0166 - categorical_accuracy: 1.0000\n",
      "Epoch 58/100\n",
      "2/2 [==============================] - 0s 25ms/step - loss: 0.0101 - categorical_accuracy: 1.0000\n",
      "Epoch 59/100\n",
      "2/2 [==============================] - 0s 26ms/step - loss: 0.0060 - categorical_accuracy: 1.0000\n",
      "Epoch 60/100\n",
      "2/2 [==============================] - 0s 25ms/step - loss: 0.0072 - categorical_accuracy: 1.0000\n",
      "Epoch 61/100\n",
      "2/2 [==============================] - 0s 26ms/step - loss: 0.0116 - categorical_accuracy: 1.0000\n",
      "Epoch 62/100\n",
      "2/2 [==============================] - 0s 24ms/step - loss: 0.4707 - categorical_accuracy: 0.9500\n",
      "Epoch 63/100\n",
      "2/2 [==============================] - 0s 25ms/step - loss: 0.0584 - categorical_accuracy: 0.9500\n",
      "Epoch 64/100\n",
      "2/2 [==============================] - 0s 27ms/step - loss: 0.0576 - categorical_accuracy: 0.9833\n",
      "Epoch 65/100\n",
      "2/2 [==============================] - 0s 26ms/step - loss: 0.3156 - categorical_accuracy: 0.9667\n",
      "Epoch 66/100\n",
      "2/2 [==============================] - 0s 25ms/step - loss: 0.2292 - categorical_accuracy: 0.9500\n",
      "Epoch 67/100\n",
      "2/2 [==============================] - 0s 25ms/step - loss: 0.0820 - categorical_accuracy: 0.9667\n",
      "Epoch 68/100\n",
      "2/2 [==============================] - 0s 24ms/step - loss: 0.1027 - categorical_accuracy: 0.9500\n",
      "Epoch 69/100\n",
      "2/2 [==============================] - 0s 25ms/step - loss: 0.0488 - categorical_accuracy: 0.9833\n",
      "Epoch 70/100\n",
      "2/2 [==============================] - 0s 26ms/step - loss: 0.0600 - categorical_accuracy: 0.9833\n",
      "Epoch 71/100\n",
      "2/2 [==============================] - 0s 25ms/step - loss: 0.0417 - categorical_accuracy: 0.9833\n",
      "Epoch 72/100\n",
      "2/2 [==============================] - 0s 26ms/step - loss: 0.0647 - categorical_accuracy: 0.9667\n",
      "Epoch 73/100\n",
      "2/2 [==============================] - 0s 25ms/step - loss: 0.0381 - categorical_accuracy: 0.9833\n",
      "Epoch 74/100\n",
      "2/2 [==============================] - 0s 26ms/step - loss: 0.0464 - categorical_accuracy: 1.0000\n"
     ]
    },
    {
     "name": "stdout",
     "output_type": "stream",
     "text": [
      "Epoch 75/100\n",
      "2/2 [==============================] - 0s 26ms/step - loss: 0.0500 - categorical_accuracy: 1.0000\n",
      "Epoch 76/100\n",
      "2/2 [==============================] - 0s 25ms/step - loss: 0.0357 - categorical_accuracy: 1.0000\n",
      "Epoch 77/100\n",
      "2/2 [==============================] - 0s 24ms/step - loss: 0.0288 - categorical_accuracy: 1.0000\n",
      "Epoch 78/100\n",
      "2/2 [==============================] - 0s 25ms/step - loss: 0.0244 - categorical_accuracy: 1.0000\n",
      "Epoch 79/100\n",
      "2/2 [==============================] - 0s 25ms/step - loss: 0.0226 - categorical_accuracy: 1.0000\n",
      "Epoch 80/100\n",
      "2/2 [==============================] - 0s 25ms/step - loss: 0.0195 - categorical_accuracy: 1.0000\n",
      "Epoch 81/100\n",
      "2/2 [==============================] - 0s 24ms/step - loss: 0.0118 - categorical_accuracy: 1.0000\n",
      "Epoch 82/100\n",
      "2/2 [==============================] - 0s 24ms/step - loss: 0.0065 - categorical_accuracy: 1.0000\n",
      "Epoch 83/100\n",
      "2/2 [==============================] - 0s 24ms/step - loss: 0.0050 - categorical_accuracy: 1.0000\n",
      "Epoch 84/100\n",
      "2/2 [==============================] - 0s 25ms/step - loss: 0.0036 - categorical_accuracy: 1.0000\n",
      "Epoch 85/100\n",
      "2/2 [==============================] - 0s 25ms/step - loss: 0.0025 - categorical_accuracy: 1.0000\n",
      "Epoch 86/100\n",
      "2/2 [==============================] - 0s 25ms/step - loss: 0.0019 - categorical_accuracy: 1.0000\n",
      "Epoch 87/100\n",
      "2/2 [==============================] - 0s 24ms/step - loss: 0.0011 - categorical_accuracy: 1.0000\n",
      "Epoch 88/100\n",
      "2/2 [==============================] - 0s 25ms/step - loss: 7.2516e-04 - categorical_accuracy: 1.0000\n",
      "Epoch 89/100\n",
      "2/2 [==============================] - 0s 25ms/step - loss: 5.0182e-04 - categorical_accuracy: 1.0000\n",
      "Epoch 90/100\n",
      "2/2 [==============================] - 0s 24ms/step - loss: 3.6171e-04 - categorical_accuracy: 1.0000\n",
      "Epoch 91/100\n",
      "2/2 [==============================] - 0s 25ms/step - loss: 2.7235e-04 - categorical_accuracy: 1.0000\n",
      "Epoch 92/100\n",
      "2/2 [==============================] - 0s 24ms/step - loss: 2.0880e-04 - categorical_accuracy: 1.0000\n",
      "Epoch 93/100\n",
      "2/2 [==============================] - 0s 24ms/step - loss: 1.7194e-04 - categorical_accuracy: 1.0000\n",
      "Epoch 94/100\n",
      "2/2 [==============================] - 0s 24ms/step - loss: 1.5607e-04 - categorical_accuracy: 1.0000\n",
      "Epoch 95/100\n",
      "2/2 [==============================] - 0s 24ms/step - loss: 1.3814e-04 - categorical_accuracy: 1.0000\n",
      "Epoch 96/100\n",
      "2/2 [==============================] - 0s 24ms/step - loss: 1.2174e-04 - categorical_accuracy: 1.0000\n",
      "Epoch 97/100\n",
      "2/2 [==============================] - 0s 24ms/step - loss: 1.1229e-04 - categorical_accuracy: 1.0000\n",
      "Epoch 98/100\n",
      "2/2 [==============================] - 0s 24ms/step - loss: 9.9358e-05 - categorical_accuracy: 1.0000\n",
      "Epoch 99/100\n",
      "2/2 [==============================] - 0s 25ms/step - loss: 9.0375e-05 - categorical_accuracy: 1.0000\n",
      "Epoch 100/100\n",
      "2/2 [==============================] - 0s 25ms/step - loss: 8.0253e-05 - categorical_accuracy: 1.0000\n"
     ]
    },
    {
     "data": {
      "text/plain": [
       "<keras.callbacks.History at 0x167d0d370>"
      ]
     },
     "execution_count": 20,
     "metadata": {},
     "output_type": "execute_result"
    }
   ],
   "source": [
    "model.fit(X, y, epochs=100, callbacks=[tb_callback])"
   ]
  },
  {
   "cell_type": "code",
   "execution_count": 33,
   "id": "db4347cb",
   "metadata": {
    "scrolled": true
   },
   "outputs": [],
   "source": [
    "#convert and save file in tfjs format \n",
    "tfjs.converters.save_keras_model(model,os.getcwd())"
   ]
  },
  {
   "cell_type": "code",
   "execution_count": null,
   "id": "04b9f64c",
   "metadata": {
    "scrolled": true
   },
   "outputs": [],
   "source": []
  },
  {
   "cell_type": "code",
   "execution_count": 21,
   "id": "748f3e1c",
   "metadata": {},
   "outputs": [],
   "source": [
    "#save model in python format\n",
    "model.save('gestures.h5')"
   ]
  },
  {
   "cell_type": "code",
   "execution_count": null,
   "id": "ddd3c2c0",
   "metadata": {},
   "outputs": [],
   "source": []
  }
 ],
 "metadata": {
  "kernelspec": {
   "display_name": "Python 3 (ipykernel)",
   "language": "python",
   "name": "python3"
  },
  "language_info": {
   "codemirror_mode": {
    "name": "ipython",
    "version": 3
   },
   "file_extension": ".py",
   "mimetype": "text/x-python",
   "name": "python",
   "nbconvert_exporter": "python",
   "pygments_lexer": "ipython3",
   "version": "3.8.13"
  }
 },
 "nbformat": 4,
 "nbformat_minor": 5
}
